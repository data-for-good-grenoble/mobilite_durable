{
 "cells": [
  {
   "cell_type": "markdown",
   "id": "c2e1bf4e-6f56-4ea3-aa46-61bf01589f5b",
   "metadata": {},
   "source": [
    "🚌 Projet MDM - Mobilité Durable en Montagne ⛰️\n",
    "\n",
    "*Author : Laurent Sorba*\n",
    "\n",
    "*Date : 13/10/2025*\n",
    "\n",
    "**Description :**\n",
    "\n",
    "This Jupyter Notebook analyses the data processed from TransportDataGouv data"
   ]
  },
  {
   "cell_type": "code",
   "execution_count": null,
   "id": "2bc5f6fe-cddb-4df8-af5c-364b53980297",
   "metadata": {},
   "outputs": [],
   "source": [
    "import geopandas as gpd\n",
    "import pandas as pd"
   ]
  },
  {
   "cell_type": "code",
   "execution_count": null,
   "id": "c9fe5dda-350a-47a4-a39f-a469d0a6fded",
   "metadata": {},
   "outputs": [],
   "source": [
    "def get_markdown_dtype(df: pd.DataFrame):\n",
    "    markdown_table = \"| Column | Dtype |\\n|--------|-------|\\n\"\n",
    "    for col in df.columns:\n",
    "        non_null = df[col].count()\n",
    "        dtype = df[col].dtype\n",
    "        markdown_table += f\"| {col} | {dtype} |\\n\"\n",
    "    return markdown_table"
   ]
  },
  {
   "cell_type": "markdown",
   "id": "fda78f8b38aab327",
   "metadata": {},
   "source": "## Arrets de bus"
  },
  {
   "cell_type": "code",
   "execution_count": null,
   "id": "667bc935e5db7178",
   "metadata": {},
   "outputs": [],
   "source": [
    "file_path_stops = \"../data/transportdatagouv/stops_38.parquet\"\n",
    "# Read the GeoParquet file\n",
    "stops_gpd = gpd.read_parquet(file_path_stops)"
   ]
  },
  {
   "cell_type": "code",
   "execution_count": null,
   "id": "1b32740de2e5213e",
   "metadata": {},
   "outputs": [],
   "source": [
    "stops_gpd.crs"
   ]
  },
  {
   "cell_type": "code",
   "execution_count": null,
   "id": "feb3f4a7ff542caf",
   "metadata": {},
   "outputs": [],
   "source": [
    "# Affiche la carte\n",
    "stops_gpd.explore()"
   ]
  },
  {
   "cell_type": "code",
   "execution_count": null,
   "id": "51561f39-788c-4536-8f35-789e33c1581a",
   "metadata": {},
   "outputs": [],
   "source": [
    "stops_gpd.head()"
   ]
  },
  {
   "cell_type": "code",
   "execution_count": null,
   "id": "001fa3c5-d061-4623-a92a-e9f2b9024dd1",
   "metadata": {},
   "outputs": [],
   "source": [
    "stops_gpd.info()"
   ]
  },
  {
   "cell_type": "code",
   "execution_count": null,
   "id": "7535abaf-a76f-47b3-991f-829e604c995b",
   "metadata": {},
   "outputs": [],
   "source": [
    "expanded = stops_gpd[\"other\"].apply(pd.Series)\n",
    "expanded_stops_gdf = pd.concat([stops_gpd.drop(columns=[\"other\"]), expanded], axis=1)\n",
    "expanded_stops_gdf[expanded_stops_gdf.columns[:10]].head()"
   ]
  },
  {
   "cell_type": "code",
   "execution_count": null,
   "id": "0556b379-6a68-4a39-b24d-5e03ef3abf22",
   "metadata": {},
   "outputs": [],
   "source": [
    "expanded_stops_gdf.info()"
   ]
  },
  {
   "cell_type": "code",
   "execution_count": null,
   "id": "fa7fea22-7244-48cb-a31e-f652208af325",
   "metadata": {},
   "outputs": [],
   "source": [
    "print(\n",
    "    get_markdown_dtype(expanded_stops_gdf[expanded_stops_gdf.columns[:10]]).replace(\n",
    "        \"object\", \"string\"\n",
    "    )\n",
    ")"
   ]
  },
  {
   "cell_type": "markdown",
   "id": "8b8176eb0aad0c0f",
   "metadata": {},
   "source": "## Lignes"
  },
  {
   "cell_type": "code",
   "execution_count": null,
   "id": "a6b2ed68e1ecf2af",
   "metadata": {},
   "outputs": [],
   "source": [
    "file_path_lines = \"../data/transportdatagouv/lines_38.parquet\"\n",
    "# Read the GeoParquet file\n",
    "lines_gpd = gpd.read_parquet(file_path_lines)"
   ]
  },
  {
   "cell_type": "code",
   "execution_count": null,
   "id": "b4eb6aa4684b4dfe",
   "metadata": {},
   "outputs": [],
   "source": [
    "lines_gpd.crs"
   ]
  },
  {
   "cell_type": "code",
   "execution_count": null,
   "id": "12073a7dcc0c5e21",
   "metadata": {},
   "outputs": [],
   "source": [
    "# Affiche la carte\n",
    "lines_gpd.explore()"
   ]
  },
  {
   "cell_type": "code",
   "execution_count": null,
   "id": "09f090ab-72c3-4720-b2c1-22027ebae3aa",
   "metadata": {},
   "outputs": [],
   "source": [
    "lines_gpd.head()"
   ]
  },
  {
   "cell_type": "code",
   "execution_count": null,
   "id": "edea52ae-3605-4dd9-ad8a-34a3d18bd836",
   "metadata": {},
   "outputs": [],
   "source": [
    "lines_gpd.info()"
   ]
  },
  {
   "cell_type": "code",
   "execution_count": null,
   "id": "0e8c93e5-4f52-40b4-9646-b3c0944037b0",
   "metadata": {},
   "outputs": [],
   "source": [
    "expanded = lines_gpd[\"other\"].apply(pd.Series)\n",
    "expanded_lines_df = pd.concat([lines_gpd.drop(columns=[\"other\"]), expanded], axis=1)\n",
    "expanded_lines_df.head()"
   ]
  },
  {
   "cell_type": "code",
   "execution_count": null,
   "id": "05618c95-343a-4903-8e2b-10e6ae5ac194",
   "metadata": {},
   "outputs": [],
   "source": [
    "expanded_lines_df.loc[4, expanded_lines_df.columns[:25]]"
   ]
  },
  {
   "cell_type": "code",
   "execution_count": null,
   "id": "f0428d26-f39a-4afb-9a7d-76e369f912b3",
   "metadata": {},
   "outputs": [],
   "source": [
    "expanded_lines_df.info()"
   ]
  },
  {
   "cell_type": "code",
   "execution_count": null,
   "id": "2fb7541b-d775-40c1-b5d9-28d9ee3fad6c",
   "metadata": {},
   "outputs": [],
   "source": [
    "print(\n",
    "    get_markdown_dtype(expanded_lines_df[expanded_lines_df.columns[:25]]).replace(\n",
    "        \"object\", \"string\"\n",
    "    )\n",
    ")"
   ]
  }
 ],
 "metadata": {
  "kernelspec": {
   "display_name": "Python 3 (ipykernel)",
   "language": "python",
   "name": "python3"
  },
  "language_info": {
   "codemirror_mode": {
    "name": "ipython",
    "version": 3
   },
   "file_extension": ".py",
   "mimetype": "text/x-python",
   "name": "python",
   "nbconvert_exporter": "python",
   "pygments_lexer": "ipython3",
   "version": "3.13.1"
  }
 },
 "nbformat": 4,
 "nbformat_minor": 5
}
